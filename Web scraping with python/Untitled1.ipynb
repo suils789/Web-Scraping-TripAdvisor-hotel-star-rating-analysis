{
 "cells": [
  {
   "cell_type": "code",
   "execution_count": 1,
   "metadata": {
    "collapsed": true
   },
   "outputs": [],
   "source": [
    "from bs4 import BeautifulSoup\n",
    "import sys\n",
    "import time\n",
    "import os\n",
    "import requests\n",
    "import codecs\n",
    "import json\n",
    "import pandas as pd\n",
    "base_url = \"http://www.sse.com.cn//assortment//options//date\""
   ]
  },
  {
   "cell_type": "code",
   "execution_count": 2,
   "metadata": {
    "collapsed": false
   },
   "outputs": [],
   "source": [
    "response = requests.get(base_url)"
   ]
  },
  {
   "cell_type": "code",
   "execution_count": 3,
   "metadata": {
    "collapsed": true
   },
   "outputs": [],
   "source": [
    "html = response.text.encode('utf-8')"
   ]
  },
  {
   "cell_type": "code",
   "execution_count": 4,
   "metadata": {
    "collapsed": false
   },
   "outputs": [],
   "source": [
    "soup = BeautifulSoup(html, 'html.parser')"
   ]
  },
  {
   "cell_type": "code",
   "execution_count": 9,
   "metadata": {
    "collapsed": true
   },
   "outputs": [],
   "source": [
    "li = soup.find(\"div\", {\"class\": \"table-responsive sse_table_T01 tdclickable\"})"
   ]
  },
  {
   "cell_type": "code",
   "execution_count": 10,
   "metadata": {
    "collapsed": false
   },
   "outputs": [
    {
     "data": {
      "text/plain": [
       "<div class=\"table-responsive sse_table_T01 tdclickable\">\n",
       "<table class=\"table search_\">\n",
       "<script type=\"text/javascript\">\n",
       "\n",
       "tableData['tableData_974'] = \n",
       "\t\t{\n",
       "\t\t\t\tstaticDate:\"2017-01-11 21:00:00\",\n",
       "\t\t\tisPageing:false,\n",
       "\t\t\tpageNo:\"1\",\n",
       "\t\t\tpageSize:\"5\",\n",
       "\t\t\ttotal:\"1\",\n",
       "\t\t\tpageCount:\"1\",\n",
       "\t\t\tmethod:\"COMMON_SSE_ZQPZ_YSP_QQ_SJTJ_YDTJ_L\",\n",
       "\t\t\tcondition:\"resultCount=5\",\n",
       "\t\t\ttitle:\"æ¯æ¥ç»è®¡  æææäº¤æ\n",
       "åµ\",\n",
       "\t\t\ttime:\"\",\n",
       "\t\t\turl:\"/commonQuery.do?jsonCallBack=?\",\n",
       "\t\t\tdesc:\"\",\n",
       "\t\t\theader:[\n",
       "\t\t\t\t[\"TRADE_DATE\",\"\"],\n",
       "\t\t\t\t[\"SECURITY_CODE\",\"åçº¦æ ç<br />ä»£ç \"],\n",
       "\t\t\t\t[\"SECURITY_ABBR\",\"åçº¦æ ç<br />åç§°\"],\n",
       "\t\t\t\t[\"TOTAL_VOLUME\",\"æ»æäº¤é\"],\n",
       "\t\t\t\t[\"CALL_VOLUME\",\"è®¤è´­æäº¤é\"],\n",
       "\t\t\t\t[\"PUT_VOLUME\",\"è®¤æ²½æäº¤é\"],\n",
       "\t\t\t\t[\"CP_RATE\",\"è®¤æ²½/è®¤è´­\"],\n",
       "\t\t\t\t[\"LEAVES_QTY\",\"æªå¹³ä»<br />åçº¦æ»æ°\"],\n",
       "\t\t\t\t[\"LEAVES_CALL_QTY\",\"æªå¹³ä»è®¤<br />è´­åçº¦æ°\"],\n",
       "\t\t\t\t[\"LEAVES_PUT_QTY\",\"æªå¹³ä»è®¤<br />æ²½åçº¦æ°\"]\n",
       "\t\t\t\t\n",
       "\t\t\t\t\n",
       "\t\t\t],\n",
       "\t\t\tlist:[\n",
       "\t\t\t\t'  ',\n",
       "\t\t\t\t['2017-01-11',\n",
       "                                 '510050',\n",
       "                                 '50ETF',\n",
       "                                 '<div class=\"align_right\">416,300(å¼ )</div>',\n",
       "                                 '<div class=\"align_right\">219,266(å¼ )</div>',\n",
       "                                 '<div class=\"align_right\">197,034(å¼ )</div>',\n",
       "                                 '<div class=\"align_right\">89.86(%)</div>',\n",
       "                                 '<div class=\"align_right\">1,430,208</div>',\n",
       "                                 '<div class=\"align_right\">845,145 </div>',\n",
       "                                 '<div class=\"align_right\">585,063</div>'],\n",
       "                                 ''\n",
       "\t\t\t\t\n",
       "\t\t\t]\n",
       "\t\t};\n",
       "\t\n",
       "\n",
       "</script>\n",
       "</table></div>"
      ]
     },
     "execution_count": 10,
     "metadata": {},
     "output_type": "execute_result"
    }
   ],
   "source": [
    "li"
   ]
  }
 ],
 "metadata": {
  "anaconda-cloud": {},
  "kernelspec": {
   "display_name": "Python [conda root]",
   "language": "python",
   "name": "conda-root-py"
  },
  "language_info": {
   "codemirror_mode": {
    "name": "ipython",
    "version": 3
   },
   "file_extension": ".py",
   "mimetype": "text/x-python",
   "name": "python",
   "nbconvert_exporter": "python",
   "pygments_lexer": "ipython3",
   "version": "3.5.2"
  }
 },
 "nbformat": 4,
 "nbformat_minor": 1
}
