{
 "cells": [
  {
   "cell_type": "markdown",
   "metadata": {},
   "source": [
    "# Scraping Hotel Ratings on Tripadvisor"
   ]
  },
  {
   "cell_type": "markdown",
   "metadata": {},
   "source": [
    "In this homework we will practice web scraping. Let's get some basic information for each hotel in Boston."
   ]
  },
  {
   "cell_type": "markdown",
   "metadata": {},
   "source": [
    "On each hotel page, scrape the Traverler ratings. **(10 pts)**\n",
    "\n",
    "![Information to be scraped](traveler_ratings.png)\n",
    "\n",
    "Save the data in \"traverler_ratings.csv\" in the following format:\n",
    "\n",
    "hotel_name, rating, count"
   ]
  },
  {
   "cell_type": "code",
   "execution_count": 2,
   "metadata": {
    "collapsed": false
   },
   "outputs": [],
   "source": [
    "from bs4 import BeautifulSoup\n",
    "import sys\n",
    "import time\n",
    "import os\n",
    "import requests\n",
    "import codecs\n",
    "import json\n",
    "\n",
    "base_url = \"http://www.tripadvisor.com\""
   ]
  },
  {
   "cell_type": "code",
   "execution_count": 8,
   "metadata": {
    "collapsed": true
   },
   "outputs": [],
   "source": [
    "\"\"\" STEP 1  \"\"\"\n",
    "def get_tourism_page(city, state):\n",
    "    \"\"\"\n",
    "        Return json containing the URL\n",
    "        of the tourism city page\n",
    "    \"\"\"\n",
    "\n",
    "    # EXAMPLE: http://www.tripadvisor.com/Boston\n",
    "\n",
    "    url = base_url+ \"/\"+ city\n",
    "    \n",
    "    print(\"URL TO REQUEST: %s \\n\" % url)\n",
    "    # Given the url, request the HTML page\n",
    "    #headers = { 'User-Agent' : user_agent }\n",
    "    #response = requests.get(url, headers=headers)\n",
    "    response = requests.get(url);\n",
    "\n",
    "    html = response.text.encode('utf-8')\n",
    "   \n",
    "    # Save to file\n",
    "    with open(os.path.join('data/', city + '-search-page.json'), \"wb\") as h:\n",
    "        h.write(html)\n",
    "\n",
    "    soup = BeautifulSoup(html, 'html.parser')\n",
    "    li = soup.find(\"link\", {\"hreflang\": \"en\"})\n",
    "    return li['href']"
   ]
  },
  {
   "cell_type": "code",
   "execution_count": 14,
   "metadata": {
    "collapsed": false
   },
   "outputs": [
    {
     "name": "stdout",
     "output_type": "stream",
     "text": [
      "URL TO REQUEST: http://www.tripadvisor.com/Tourism-g60745-Boston_Massachusetts-Vacations.html \n",
      "\n"
     ]
    },
    {
     "data": {
      "text/plain": [
       "'https://www.tripadvisor.com/Tourism-g60745-Boston_Massachusetts-Vacations.html'"
      ]
     },
     "execution_count": 14,
     "metadata": {},
     "output_type": "execute_result"
    }
   ],
   "source": [
    "get_tourism_page('Tourism-g60745-Boston_Massachusetts-Vacations.html', 'MA')"
   ]
  },
  {
   "cell_type": "code",
   "execution_count": 4,
   "metadata": {
    "collapsed": true
   },
   "outputs": [],
   "source": [
    "\"\"\" STEP 2  \"\"\"\n",
    "def get_city_page(tourism_url):\n",
    "    \"\"\"\n",
    "        Get the URL of the hotels of the city\n",
    "        using the URL returned by the function\n",
    "        get_tourism_page()\n",
    "        \"\"\"\n",
    "\n",
    "    url = tourism_url\n",
    "\n",
    "    # Given the url, request the HTML page\n",
    "    #headers = { 'User-Agent' : user_agent }\n",
    "    #response = requests.get(url, headers=headers)\n",
    "    response = requests.get(url)\n",
    "   \n",
    "    html = response.text.encode('utf-8')\n",
    "\n",
    "    # Save to file\n",
    "    with open(os.path.join('data/', 'Boston' + '-tourism-page.html'), \"wb\") as h:\n",
    "        h.write(html)\n",
    "\n",
    "\n",
    "    # Use BeautifulSoup to extract the url for the list of hotels in\n",
    "    # the city and state we are interested in.\n",
    "    # For exampel in this case we need to\n",
    "    #<li class=\"hotels twoLines\">\n",
    "    #<a href=\"/Hotels-g60745-Boston_Massachusetts-Hotels.html\" data-trk=\"hotels_nav\"\n",
    "    soup = BeautifulSoup(html, 'html.parser')\n",
    "\n",
    "    li = soup.find(\"li\", {\"class\": \"hotels twoLines\"})\n",
    "    city_url = li.find('a', href = True)\n",
    "    print(\"CITY PAGE URL: %s\" % city_url['href'])\n",
    "\n",
    "    return city_url['href']"
   ]
  },
  {
   "cell_type": "code",
   "execution_count": 15,
   "metadata": {
    "collapsed": false
   },
   "outputs": [
    {
     "name": "stdout",
     "output_type": "stream",
     "text": [
      "CITY PAGE URL: /Hotels-g60745-Boston_Massachusetts-Hotels.html\n"
     ]
    },
    {
     "data": {
      "text/plain": [
       "'/Hotels-g60745-Boston_Massachusetts-Hotels.html'"
      ]
     },
     "execution_count": 15,
     "metadata": {},
     "output_type": "execute_result"
    }
   ],
   "source": [
    "get_city_page('https://www.tripadvisor.com/Tourism-g60745-Boston_Massachusetts-Vacations.html')"
   ]
  },
  {
   "cell_type": "code",
   "execution_count": 5,
   "metadata": {
    "collapsed": true
   },
   "outputs": [],
   "source": [
    "\"\"\" STEP 3 \"\"\"\n",
    "def get_hotellist_page(city_url, count):\n",
    "    \"\"\" Get the hotel list page given the url returned by\n",
    "        get_city_page(). Return the html after saving\n",
    "        it to the datadir \n",
    "    \"\"\"\n",
    "\n",
    "    url = base_url + city_url\n",
    "    # Sleep 2 sec before starting a new http request\n",
    "    time.sleep(2)\n",
    "    # Request page\n",
    "    #headers = { 'User-Agent' : user_agent }\n",
    "    #response = requests.get(url, headers=headers)\n",
    "    response = requests.get(url)\n",
    "    html = response.text.encode('utf-8')\n",
    "    # Save the \n",
    "    with open(os.path.join('data/', 'Boston' + '-hotelist-' + str(count) + '.html'), \"wb\") as h:\n",
    "        h.write(html)\n",
    "    return html"
   ]
  },
  {
   "cell_type": "code",
   "execution_count": 35,
   "metadata": {
    "collapsed": true
   },
   "outputs": [],
   "source": [
    "def parse_hotellist_page(html):\n",
    "    soup = BeautifulSoup(html, 'html.parser')\n",
    "    hotel_boxes = soup.findAll('div', {'class' :'listing easyClear  p13n_imperfect '})\n",
    "    print(soup.prettify())\n",
    "    for hotel_box in hotel_boxes:\n",
    "        "
   ]
  },
  {
   "cell_type": "code",
   "execution_count": 43,
   "metadata": {
    "collapsed": false,
    "scrolled": true
   },
   "outputs": [
    {
     "data": {
      "text/plain": [
       "30"
      ]
     },
     "execution_count": 43,
     "metadata": {},
     "output_type": "execute_result"
    }
   ],
   "source": [
    "soup = BeautifulSoup(html, 'html.parser')\n",
    "hotel_boxes = soup.select('div.listing.easyClear.p13n_imperfect')\n",
    "len(hotel_boxes)"
   ]
  },
  {
   "cell_type": "code",
   "execution_count": 24,
   "metadata": {
    "collapsed": false
   },
   "outputs": [],
   "source": [
    "\"\"\" STEP 4 \"\"\"\n",
    "def parse_hotellist_page(html):\n",
    "    \"\"\" Parse the html pages returned by get_hotellist_page().\n",
    "        Return the next url page to scrape (a city can have\n",
    "        more than one page of hotels) if there is, else exit\n",
    "        the script.\n",
    "    \"\"\"\n",
    "\n",
    "    soup = BeautifulSoup(html, 'html.parser')\n",
    "#   print(soup.prettify())\n",
    "    #hotel_boxes = soup.findAll('div', {'class' :'listing easyClear  p13n_imperfect '})\n",
    "    #hotel_boxes = soup.findAll('div', attrs={'class':'listing'})\n",
    "    #for d in hotel_boxes:\n",
    "    #    print(d['class'])\n",
    "\n",
    "    # Extract hotel name, star rating and number of reviews\n",
    "    hotel_boxes = soup.select('div.listing.easyClear.p13n_imperfect')\n",
    "#     for hotel_box in hotel_boxes:\n",
    "#         name = hotel_box.find('div', {'class' :'listing_title'}).find(text=True)\n",
    "#         try:\n",
    "#             rating = hotel_box.find('div', {'class' :'listing_rating'})\n",
    "        \n",
    "#             reviews = rating.select('span.more.review_count')[0].find(text=True)\n",
    "            \n",
    "#             stars = hotel_box.find(\"img\", {\"class\" : \"sprite-ratings\"})\n",
    "            \n",
    "#         except Exception as e:\n",
    "#             print(\"No ratings for this hotel\")\n",
    "#             reviews = \"N/A\"\n",
    "#             stars = 'N/A'\n",
    "\n",
    "#         if stars != 'N/A':\n",
    "#             #print(\"Stars: %s\" % stars['alt'].split()[0])\n",
    "#             stars = stars['alt'].split()[0]\n",
    "#         print(\"HOTEL NAME: %s\" % name)\n",
    "#         print(\"HOTEL REVIEWS: %s\" % reviews)\n",
    "#         print(\"HOTEL STAR RATING: %s \\n\" % stars)\n",
    "\n",
    "\n",
    "#     for hotel_box in hotel_boxes:\n",
    "#         name = hotel_box.find('div', {'class' :'colTitle'}).find(text=True)\n",
    "#         try:\n",
    "#             rating = hotel_box.find('div', {'class' :'listing_rating'})\n",
    "        \n",
    "#             reviews = rating.select('span.more.review_count')[0].find(text=True)\n",
    "            \n",
    "#             stars = hotel_box.find(\"img\", {\"class\" : \"sprite-ratings\"})\n",
    "            \n",
    "#         except Exception as e:\n",
    "#             print(\"No ratings for this hotel\")\n",
    "#             reviews = \"N/A\"\n",
    "#             stars = 'N/A'\n",
    "\n",
    "#         if stars != 'N/A':\n",
    "#             #print(\"Stars: %s\" % stars['alt'].split()[0])\n",
    "#             stars = stars['alt'].split()[0]\n",
    "#         print(\"HOTEL NAME: %s\" % name)\n",
    "#         print(\"HOTEL REVIEWS: %s\" % reviews)\n",
    "#         print(\"HOTEL STAR RATING: %s \\n\" % stars)\n",
    "\n",
    "#     # Get next URL page if exists, else exit\n",
    "#     div = soup.select(\"div.unified.pagination.standard_pagination\")[0]\n",
    "#     # check if last page\n",
    "#     if len(div.select('span.nav.next.ui_button.disabled')) > 0:\n",
    "#         print(\"We reached last page\")\n",
    "#         sys.exit()\n",
    "#     # If it is not las page there must be the Next URL\n",
    "#     hrefs = div.findAll('a', href= True)\n",
    "#     for href in hrefs:\n",
    "#         if href.find(text = True) == 'Next':\n",
    "#             print(\"Next url is %s\" % href['href'])\n",
    "#             return href['href']"
   ]
  },
  {
   "cell_type": "code",
   "execution_count": 28,
   "metadata": {
    "collapsed": false,
    "scrolled": true
   },
   "outputs": [
    {
     "name": "stdout",
     "output_type": "stream",
     "text": [
      "URL TO REQUEST: http://www.tripadvisor.com/Tourism-g60745-Boston_Massachusetts-Vacations.html \n",
      "\n",
      "CITY PAGE URL: /Hotels-g60745-Boston_Massachusetts-Hotels.html\n",
      "HOTEL NAME: Marriott Vacation Club Pulse at Custom House, Boston\n",
      "HOTEL REVIEWS: 738 Reviews\n",
      "HOTEL STAR RATING: 4.5 \n",
      "\n",
      "HOTEL NAME: Boston Harbor Hotel\n",
      "HOTEL REVIEWS: 1,724 Reviews\n",
      "HOTEL STAR RATING: 4.5 \n",
      "\n",
      "HOTEL NAME: Seaport Boston Hotel\n",
      "HOTEL REVIEWS: 4,187 Reviews\n",
      "HOTEL STAR RATING: 4.5 \n",
      "\n",
      "HOTEL NAME: Four Seasons Hotel Boston\n",
      "HOTEL REVIEWS: 1,487 Reviews\n",
      "HOTEL STAR RATING: 4.5 \n",
      "\n",
      "HOTEL NAME: Lenox Hotel\n",
      "HOTEL REVIEWS: 3,132 Reviews\n",
      "HOTEL STAR RATING: 4.5 \n",
      "\n",
      "HOTEL NAME: Courtyard Boston Copley Square\n",
      "HOTEL REVIEWS: 1,566 Reviews\n",
      "HOTEL STAR RATING: 4.5 \n",
      "\n",
      "HOTEL NAME: InterContinental Boston\n",
      "HOTEL REVIEWS: 3,307 Reviews\n",
      "HOTEL STAR RATING: 4.5 \n",
      "\n",
      "HOTEL NAME: Hotel Commonwealth\n",
      "HOTEL REVIEWS: 3,978 Reviews\n",
      "HOTEL STAR RATING: 4.5 \n",
      "\n",
      "HOTEL NAME: Mandarin Oriental, Boston\n",
      "HOTEL REVIEWS: 616 Reviews\n",
      "HOTEL STAR RATING: 4.5 \n",
      "\n",
      "HOTEL NAME: Residence Inn Boston Back Bay/Fenway\n",
      "HOTEL REVIEWS: 1,259 Reviews\n",
      "HOTEL STAR RATING: 4.5 \n",
      "\n",
      "HOTEL NAME: XV Beacon\n",
      "HOTEL REVIEWS: 1,044 Reviews\n",
      "HOTEL STAR RATING: 4.5 \n",
      "\n",
      "HOTEL NAME: Eliot Hotel\n",
      "HOTEL REVIEWS: 1,123 Reviews\n",
      "HOTEL STAR RATING: 4.5 \n",
      "\n",
      "HOTEL NAME: Residence Inn Boston Downtown/Seaport\n",
      "HOTEL REVIEWS: 412 Reviews\n",
      "HOTEL STAR RATING: 4.5 \n",
      "\n",
      "HOTEL NAME: Kimpton Nine Zero Hotel\n",
      "HOTEL REVIEWS: 2,433 Reviews\n",
      "HOTEL STAR RATING: 4.5 \n",
      "\n",
      "HOTEL NAME: Hilton Garden Inn Boston Logan Airport\n",
      "HOTEL REVIEWS: 645 Reviews\n",
      "HOTEL STAR RATING: 4.5 \n",
      "\n",
      "HOTEL NAME: The Verb Hotel\n",
      "HOTEL REVIEWS: 1,377 Reviews\n",
      "HOTEL STAR RATING: 4.5 \n",
      "\n",
      "HOTEL NAME: The Godfrey Hotel Boston\n",
      "HOTEL REVIEWS: 1,489 Reviews\n",
      "HOTEL STAR RATING: 4.5 \n",
      "\n",
      "HOTEL NAME: The Langham, Boston\n",
      "HOTEL REVIEWS: 2,012 Reviews\n",
      "HOTEL STAR RATING: 4.5 \n",
      "\n",
      "HOTEL NAME: enVision Hotel Boston - Longwood\n",
      "HOTEL REVIEWS: 554 Reviews\n",
      "HOTEL STAR RATING: 4.5 \n",
      "\n",
      "HOTEL NAME: Loews Boston Hotel\n",
      "HOTEL REVIEWS: 1,355 Reviews\n",
      "HOTEL STAR RATING: 4.5 \n",
      "\n",
      "HOTEL NAME: The Boxer Boston\n",
      "HOTEL REVIEWS: 888 Reviews\n",
      "HOTEL STAR RATING: 4.5 \n",
      "\n",
      "HOTEL NAME: Colonnade Hotel\n",
      "HOTEL REVIEWS: 2,904 Reviews\n",
      "HOTEL STAR RATING: 4.5 \n",
      "\n",
      "HOTEL NAME: Residence Inn Boston Harbor on Tudor Wharf\n",
      "HOTEL REVIEWS: 780 Reviews\n",
      "HOTEL STAR RATING: 4.5 \n",
      "\n",
      "HOTEL NAME: Fairmont Copley Plaza, Boston\n",
      "HOTEL REVIEWS: 2,584 Reviews\n",
      "HOTEL STAR RATING: 4.5 \n",
      "\n",
      "HOTEL NAME: Copley Square Hotel\n",
      "HOTEL REVIEWS: 1,515 Reviews\n",
      "HOTEL STAR RATING: 4.5 \n",
      "\n",
      "HOTEL NAME: The Bostonian Boston\n",
      "HOTEL REVIEWS: 1,418 Reviews\n",
      "HOTEL STAR RATING: 4 \n",
      "\n",
      "HOTEL NAME: W Boston\n",
      "HOTEL REVIEWS: 1,451 Reviews\n",
      "HOTEL STAR RATING: 4.5 \n",
      "\n",
      "HOTEL NAME: Taj Boston\n",
      "HOTEL REVIEWS: 2,164 Reviews\n",
      "HOTEL STAR RATING: 4 \n",
      "\n",
      "HOTEL NAME: The Westin Copley Place, Boston\n",
      "HOTEL REVIEWS: 3,429 Reviews\n",
      "HOTEL STAR RATING: 4.5 \n",
      "\n",
      "HOTEL NAME: The Ritz-Carlton, Boston\n",
      "HOTEL REVIEWS: 588 Reviews\n",
      "HOTEL STAR RATING: 4.5 \n",
      "\n"
     ]
    },
    {
     "ename": "TypeError",
     "evalue": "Can't convert 'NoneType' object to str implicitly",
     "output_type": "error",
     "traceback": [
      "\u001b[0;31m---------------------------------------------------------------------------\u001b[0m",
      "\u001b[0;31mTypeError\u001b[0m                                 Traceback (most recent call last)",
      "\u001b[0;32m<ipython-input-28-fe8e7589a8af>\u001b[0m in \u001b[0;36m<module>\u001b[0;34m()\u001b[0m\n\u001b[1;32m     13\u001b[0m \u001b[1;32mwhile\u001b[0m\u001b[1;33m(\u001b[0m\u001b[1;32mTrue\u001b[0m\u001b[1;33m)\u001b[0m\u001b[1;33m:\u001b[0m\u001b[1;33m\u001b[0m\u001b[0m\n\u001b[1;32m     14\u001b[0m     \u001b[0mc\u001b[0m\u001b[1;33m+=\u001b[0m\u001b[1;36m1\u001b[0m\u001b[1;33m\u001b[0m\u001b[0m\n\u001b[0;32m---> 15\u001b[0;31m     \u001b[0mhtml\u001b[0m \u001b[1;33m=\u001b[0m \u001b[0mget_hotellist_page\u001b[0m\u001b[1;33m(\u001b[0m\u001b[0mcity_url\u001b[0m\u001b[1;33m,\u001b[0m \u001b[0mc\u001b[0m\u001b[1;33m)\u001b[0m\u001b[1;33m\u001b[0m\u001b[0m\n\u001b[0m\u001b[1;32m     16\u001b[0m     \u001b[0mcity_url\u001b[0m \u001b[1;33m=\u001b[0m \u001b[0mparse_hotellist_page\u001b[0m\u001b[1;33m(\u001b[0m\u001b[0mhtml\u001b[0m\u001b[1;33m)\u001b[0m\u001b[1;33m\u001b[0m\u001b[0m\n",
      "\u001b[0;32m<ipython-input-5-0966c70a5212>\u001b[0m in \u001b[0;36mget_hotellist_page\u001b[0;34m(city_url, count)\u001b[0m\n\u001b[1;32m      6\u001b[0m     \"\"\"\n\u001b[1;32m      7\u001b[0m \u001b[1;33m\u001b[0m\u001b[0m\n\u001b[0;32m----> 8\u001b[0;31m     \u001b[0murl\u001b[0m \u001b[1;33m=\u001b[0m \u001b[0mbase_url\u001b[0m \u001b[1;33m+\u001b[0m \u001b[0mcity_url\u001b[0m\u001b[1;33m\u001b[0m\u001b[0m\n\u001b[0m\u001b[1;32m      9\u001b[0m     \u001b[1;31m# Sleep 2 sec before starting a new http request\u001b[0m\u001b[1;33m\u001b[0m\u001b[1;33m\u001b[0m\u001b[0m\n\u001b[1;32m     10\u001b[0m     \u001b[0mtime\u001b[0m\u001b[1;33m.\u001b[0m\u001b[0msleep\u001b[0m\u001b[1;33m(\u001b[0m\u001b[1;36m2\u001b[0m\u001b[1;33m)\u001b[0m\u001b[1;33m\u001b[0m\u001b[0m\n",
      "\u001b[0;31mTypeError\u001b[0m: Can't convert 'NoneType' object to str implicitly"
     ]
    }
   ],
   "source": [
    "# Get current directory\n",
    "current_dir = os.getcwd()\n",
    "\n",
    "# Create datadir if does not exist\n",
    "if not os.path.exists(os.path.join(current_dir, 'data/')):\n",
    "    os.makedirs(os.path.join(current_dir, 'data/'))\n",
    "    \n",
    "# Obtain the url of the toursim page \n",
    "tourism_url = get_tourism_page('Tourism-g60745-Boston_Massachusetts-Vacations.html', 'MA')\n",
    "#Get URL to obtaint the list of hotels in a specific city\n",
    "city_url = get_city_page(tourism_url)\n",
    "c=0\n",
    "while(True):\n",
    "    c+=1\n",
    "    html = get_hotellist_page(city_url, c)\n",
    "    city_url = parse_hotellist_page(html)"
   ]
  },
  {
   "cell_type": "markdown",
   "metadata": {},
   "source": [
    "-------"
   ]
  },
  {
   "cell_type": "markdown",
   "metadata": {},
   "source": [
    "Next, scrape all the reviews of each hotel for the star ratings of the following attributes: Value, Location, Sleep Quality, Rooms, Cleanliness, Service. Note that some reviews may not have attribute ratings and some may only have some of the attributes. **(25 pts)**\n",
    "\n",
    "![Information to be scraped](attribute_ratings.png)\n",
    "\n",
    "Save the data in \"attribute_ratings.csv\" in the following format:\n",
    "\n",
    "hotel_name, review_id, attribute, star_value"
   ]
  },
  {
   "cell_type": "code",
   "execution_count": null,
   "metadata": {
    "collapsed": true
   },
   "outputs": [],
   "source": []
  },
  {
   "cell_type": "markdown",
   "metadata": {},
   "source": [
    "-------"
   ]
  }
 ],
 "metadata": {
  "anaconda-cloud": {},
  "kernelspec": {
   "display_name": "Python [conda root]",
   "language": "python",
   "name": "conda-root-py"
  },
  "language_info": {
   "codemirror_mode": {
    "name": "ipython",
    "version": 3
   },
   "file_extension": ".py",
   "mimetype": "text/x-python",
   "name": "python",
   "nbconvert_exporter": "python",
   "pygments_lexer": "ipython3",
   "version": "3.5.2"
  }
 },
 "nbformat": 4,
 "nbformat_minor": 0
}
